{
 "cells": [
  {
   "cell_type": "code",
   "execution_count": null,
   "metadata": {},
   "outputs": [],
   "source": []
  },
  {
   "cell_type": "code",
   "execution_count": 1,
   "metadata": {},
   "outputs": [
    {
     "name": "stdout",
     "output_type": "stream",
     "text": [
      "> > > > > > > > > > < < < < < < < < < < > > > > > > > > > > < < < < < < < < < < > > > > > > > > > > < < < < < < < < < < > > > > > > > > > > < < < < < < < < < < > > > > > > > > > > < < < < < < < < < < "
     ]
    }
   ],
   "source": [
    "# 3.3 What does this code do?\n",
    "for row in range(10):\n",
    "    for column in range(10):\n",
    "        print('<' if row % 2 == 1 else '>', end = ' ')\n",
    "    "
   ]
  },
  {
   "cell_type": "markdown",
   "metadata": {},
   "source": [
    "for the odd row the output is < and for the even row the output is >"
   ]
  },
  {
   "cell_type": "code",
   "execution_count": 4,
   "metadata": {},
   "outputs": [
    {
     "name": "stdin",
     "output_type": "stream",
     "text": [
      "Enter the original amount invested: 1000\n",
      "Enter the annual return rate: 1\n"
     ]
    },
    {
     "name": "stdout",
     "output_type": "stream",
     "text": [
      "The amount on deposit at the end of 1 year is 2000\n",
      "The amount on deposit at the end of 2 year is 4000\n",
      "The amount on deposit at the end of 3 year is 8000\n",
      "The amount on deposit at the end of 4 year is 16000\n",
      "The amount on deposit at the end of 5 year is 32000\n",
      "The amount on deposit at the end of 6 year is 64000\n",
      "The amount on deposit at the end of 7 year is 128000\n",
      "The amount on deposit at the end of 8 year is 256000\n",
      "The amount on deposit at the end of 9 year is 512000\n",
      "The amount on deposit at the end of 10 year is 1024000\n",
      "The amount on deposit at the end of 11 year is 2048000\n",
      "The amount on deposit at the end of 12 year is 4096000\n",
      "The amount on deposit at the end of 13 year is 8192000\n",
      "The amount on deposit at the end of 14 year is 16384000\n",
      "The amount on deposit at the end of 15 year is 32768000\n",
      "The amount on deposit at the end of 16 year is 65536000\n",
      "The amount on deposit at the end of 17 year is 131072000\n",
      "The amount on deposit at the end of 18 year is 262144000\n",
      "The amount on deposit at the end of 19 year is 524288000\n",
      "The amount on deposit at the end of 20 year is 1048576000\n",
      "The amount on deposit at the end of 21 year is 2097152000\n",
      "The amount on deposit at the end of 22 year is 4194304000\n",
      "The amount on deposit at the end of 23 year is 8388608000\n",
      "The amount on deposit at the end of 24 year is 16777216000\n",
      "The amount on deposit at the end of 25 year is 33554432000\n",
      "The amount on deposit at the end of 26 year is 67108864000\n",
      "The amount on deposit at the end of 27 year is 134217728000\n",
      "The amount on deposit at the end of 28 year is 268435456000\n",
      "The amount on deposit at the end of 29 year is 536870912000\n",
      "The amount on deposit at the end of 30 year is 1073741824000\n"
     ]
    }
   ],
   "source": [
    "# 3.10 7% Investment Return\n",
    "p = int(input('Enter the original amount invested:'))\n",
    "r = int(input('Enter the annual return rate:'))\n",
    "for n in range(1,31):\n",
    "    a = p * ((1 + r) ** n)\n",
    "    print('The amount on deposit at the end of', n , 'year is', a )\n"
   ]
  },
  {
   "cell_type": "code",
   "execution_count": 23,
   "metadata": {},
   "outputs": [
    {
     "name": "stdin",
     "output_type": "stream",
     "text": [
      "Enter a nonnegative integer: 5\n"
     ]
    },
    {
     "name": "stdout",
     "output_type": "stream",
     "text": [
      "120\n"
     ]
    }
   ],
   "source": [
    "# 3.13 Factorials\n",
    "n = int(input('Enter a nonnegative integer:'))\n",
    "factorial = 1\n",
    "if n == 0:\n",
    "    factorial = 0\n",
    "else:\n",
    "    \n",
    "    for i in range(n, 1, -1):\n",
    "        factorial = i * factorial\n",
    "\n",
    "    \n",
    "print(factorial)\n",
    "\n",
    "    "
   ]
  },
  {
   "cell_type": "code",
   "execution_count": null,
   "metadata": {},
   "outputs": [],
   "source": [
    "# 3.31 Intro to Data Science: Categorial Data"
   ]
  },
  {
   "cell_type": "markdown",
   "metadata": {},
   "source": [
    "Only Mode works"
   ]
  },
  {
   "cell_type": "code",
   "execution_count": null,
   "metadata": {},
   "outputs": [],
   "source": [
    "# 3.23 Validating indentation\n"
   ]
  },
  {
   "cell_type": "markdown",
   "metadata": {},
   "source": [
    "There will be a run-time error complaining about line 6 unexpected indent.\n",
    "\n",
    "But tabnanny can't flag it."
   ]
  },
  {
   "cell_type": "code",
   "execution_count": 25,
   "metadata": {},
   "outputs": [
    {
     "name": "stdout",
     "output_type": "stream",
     "text": [
      "*\n",
      "**\n",
      "***\n",
      "****\n",
      "*****\n",
      "******\n",
      "*******\n",
      "********\n",
      "*********\n"
     ]
    }
   ],
   "source": [
    "# 3.17 Nested Loops\n",
    "for i in range(1,10,1):\n",
    "    for j in range(i):\n",
    "        print('*', end = '')\n",
    "    print('')"
   ]
  },
  {
   "cell_type": "code",
   "execution_count": 26,
   "metadata": {},
   "outputs": [
    {
     "name": "stdout",
     "output_type": "stream",
     "text": [
      "**********\n",
      "*********\n",
      "********\n",
      "*******\n",
      "******\n",
      "*****\n",
      "****\n",
      "***\n",
      "**\n",
      "*\n"
     ]
    }
   ],
   "source": [
    "for i in range(10,0,-1):\n",
    "    for j in range(i):\n",
    "        print('*', end = '')\n",
    "    print('')"
   ]
  },
  {
   "cell_type": "code",
   "execution_count": 27,
   "metadata": {},
   "outputs": [
    {
     "name": "stdout",
     "output_type": "stream",
     "text": [
      "**********\n",
      " *********\n",
      "  ********\n",
      "   *******\n",
      "    ******\n",
      "     *****\n",
      "      ****\n",
      "       ***\n",
      "        **\n",
      "         *\n"
     ]
    }
   ],
   "source": [
    "for i in range(10,0,-1):\n",
    "    for j in range(10 - i):\n",
    "        print(' ', end = '')\n",
    "    for j in range(i):\n",
    "        print('*', end = '')\n",
    "    print('')"
   ]
  },
  {
   "cell_type": "code",
   "execution_count": 28,
   "metadata": {},
   "outputs": [
    {
     "name": "stdout",
     "output_type": "stream",
     "text": [
      "          \n",
      "         *\n",
      "        **\n",
      "       ***\n",
      "      ****\n",
      "     *****\n",
      "    ******\n",
      "   *******\n",
      "  ********\n",
      " *********\n"
     ]
    }
   ],
   "source": [
    "for i in range(10,0,-1):\n",
    "    for j in range(i):\n",
    "        print(' ', end = '')\n",
    "    for j in range(10 - i):\n",
    "        print('*', end = '')\n",
    "    print('')"
   ]
  },
  {
   "cell_type": "code",
   "execution_count": 37,
   "metadata": {},
   "outputs": [
    {
     "name": "stdin",
     "output_type": "stream",
     "text": [
      "Number of total iterations: 1000000000\n"
     ]
    },
    {
     "name": "stdout",
     "output_type": "stream",
     "text": [
      "119 3.14999586659347\n",
      "1688 3.141000236580159\n",
      "10794 3.1415000095284658\n",
      "136121 3.141599999994786\n"
     ]
    }
   ],
   "source": [
    "#3.14 Challenge: Appromixating the Mathmatical Constant pi\n",
    "sign = 1\n",
    "sum = 0\n",
    "found1 = False\n",
    "found2 = False\n",
    "found3 = False\n",
    "found4 = False\n",
    "iteration = int(input('Number of total iterations:'))\n",
    "for i in range(iteration):\n",
    "    sum = sum + 4 * sign /(1 + 2 * i)\n",
    "    sign = sign * (-1)\n",
    "    # print(i+1,sum)\n",
    "    if sum > 3.14 and sum < 3.15 and not found1:\n",
    "        print (i+1, sum)\n",
    "        found1 = True\n",
    "    if sum > 3.141 and sum < 3.142 and not found2:\n",
    "        print (i+1, sum)\n",
    "        found2 = True\n",
    "    if sum > 3.1415 and sum < 3.1416 and not found3:\n",
    "        print (i+1, sum)\n",
    "        found3 = True\n",
    "    if sum > 3.14159 and sum < 3.1416 and not found4:\n",
    "        print (i+1, sum)\n",
    "        found4 = True\n",
    "        break"
   ]
  },
  {
   "cell_type": "markdown",
   "metadata": {},
   "source": [
    "119 3.14999586659347\n",
    "1688 3.141000236580159\n",
    "10794 3.1415000095284658\n",
    "136121 3.141599999994786"
   ]
  },
  {
   "cell_type": "code",
   "execution_count": 42,
   "metadata": {},
   "outputs": [
    {
     "name": "stdout",
     "output_type": "stream",
     "text": [
      "*            **********   **********            *\n",
      "**           *********     *********           **\n",
      "***          ********       ********          ***\n",
      "****         *******         *******         ****\n",
      "*****        ******           ******        *****\n",
      "******       *****             *****       ******\n",
      "*******      ****               ****      *******\n",
      "********     ***                 ***     ********\n",
      "*********    **                   **    *********\n",
      "**********   *                     *   **********\n"
     ]
    }
   ],
   "source": [
    "# 3.18 Nested Looping\n",
    "for i in range(10):\n",
    "    for j in range(i+1):\n",
    "        print('*',end = '')\n",
    "    for j in range(10-i-1):\n",
    "        print(' ',end = '')\n",
    "    print('   ',end = '')\n",
    "    for j in range(10-i):\n",
    "        print('*',end = '')\n",
    "    for j in range(i):\n",
    "        print(' ',end = '')\n",
    "    print('   ',end = '')\n",
    "    for j in range(i):\n",
    "        print(' ',end = '')\n",
    "    for j in range(10-i):\n",
    "        print('*',end = '')\n",
    "    print('   ',end = '')\n",
    "    for j in range(10-i-1):\n",
    "        print(' ',end = '')\n",
    "    for j in range(i+1):\n",
    "        print('*',end = '')\n",
    "    print('')\n",
    "        "
   ]
  },
  {
   "cell_type": "code",
   "execution_count": null,
   "metadata": {},
   "outputs": [],
   "source": [
    "#3.24 Project: Using the prospector"
   ]
  },
  {
   "cell_type": "markdown",
   "metadata": {},
   "source": [
    "Syntax error and bad coding style."
   ]
  },
  {
   "cell_type": "code",
   "execution_count": null,
   "metadata": {},
   "outputs": [],
   "source": [
    "#3.26 DS Research: Anscombe’s Quartet"
   ]
  },
  {
   "cell_type": "markdown",
   "metadata": {},
   "source": [
    "Done. Found the data on Wikipedia."
   ]
  },
  {
   "cell_type": "code",
   "execution_count": null,
   "metadata": {},
   "outputs": [],
   "source": []
  },
  {
   "cell_type": "code",
   "execution_count": null,
   "metadata": {},
   "outputs": [],
   "source": []
  },
  {
   "cell_type": "code",
   "execution_count": null,
   "metadata": {},
   "outputs": [],
   "source": []
  }
 ],
 "metadata": {
  "kernelspec": {
   "display_name": "Python 3",
   "language": "python",
   "name": "python3"
  },
  "language_info": {
   "codemirror_mode": {
    "name": "ipython",
    "version": 3
   },
   "file_extension": ".py",
   "mimetype": "text/x-python",
   "name": "python",
   "nbconvert_exporter": "python",
   "pygments_lexer": "ipython3",
   "version": "3.8.3"
  }
 },
 "nbformat": 4,
 "nbformat_minor": 4
}
